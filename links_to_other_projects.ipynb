{
 "cells": [
  {
   "attachments": {},
   "cell_type": "markdown",
   "metadata": {},
   "source": [
    "## Tourism Statics\n",
    "webinar of tourism statistics (Statistics Poland)\n",
    "https://www.youtube.com/watch?v=VX8QJwH0hMI\n"
   ]
  },
  {
   "attachments": {},
   "cell_type": "markdown",
   "metadata": {},
   "source": [
    "#### documentation from previous project of tourism statistics (with use of web scraped data)\n",
    "__[final_report_containing_final_results_and_a_full_description_of_the_methodology](\n",
    "https://cros-legacy.ec.europa.eu/system/files/wpj_deliverable_j5_2020_11_17_final_report_containing_final_results_and_a_full_description_of_the_methodology_used_1.pdf\n",
    ")__"
   ]
  },
  {
   "attachments": {},
   "cell_type": "markdown",
   "metadata": {},
   "source": [
    "## Online Job Advertisements"
   ]
  },
  {
   "attachments": {},
   "cell_type": "markdown",
   "metadata": {},
   "source": [
    "Currently, the OJA contains information on more than 100 million distinct OJAs collected from 316 sources in Europe.\n",
    "Compared to traditional labour market data sources, it contains previously unavailable information (e.g., skill requirement)"
   ]
  },
  {
   "attachments": {},
   "cell_type": "markdown",
   "metadata": {},
   "source": [
    "__[what_different_countries_do_in_OJA?](https://webcast.ec.europa.eu/ntts2023-day-3-gasp-20230309)__\n",
    "starts at 16:00:00"
   ]
  },
  {
   "attachments": {},
   "cell_type": "markdown",
   "metadata": {},
   "source": [
    "### Online Job Vacancies\n",
    "https://cros-legacy.ec.europa.eu/content/WPB_Online_job_vacancies\n"
   ]
  },
  {
   "attachments": {},
   "cell_type": "markdown",
   "metadata": {},
   "source": [
    "## Web Intelligence Platform\n",
    "<br>Eurostat in collaboration with statistical offices is building a platform for data aquisition</br>\n",
    "__[presentation_of_WIP](\n",
    "https://webcast.ec.europa.eu/ntts2023-satellite-event-web-intelligence-network-20230310\n",
    ")__"
   ]
  },
  {
   "attachments": {},
   "cell_type": "markdown",
   "metadata": {},
   "source": [
    "## Price statistics\n",
    "\n",
    "1.\tPractical guidelines on web scraping for the Harmonised Index for Consumer Prices \n",
    "https://ec.europa.eu/eurostat/documents/272892/12032198/Guidelines-web-scraping-HICP-11-2020.pdf/\n",
    "\n",
    "2.\tResearch indices using web scraped price data \n",
    "https://www.ons.gov.uk/economy/inflationandpriceindices/articles/researchindicesusingwebscrapedpricedata/august2017update \n",
    "\n",
    "3.\tConsumer Price Index manual (web scraping section at page 117) \n",
    "https://www.ilo.org/global/statistics-and-databases/publications/WCMS_761444/lang--en/index.htm\n",
    "\n",
    "4.\tBrazil Regional Hub prices webscraping Course Day 1 (21/02/2022) –\n",
    " https://www.youtube.com/watch?v=yMU_Cavyws0 (2 hours)\n",
    "\n",
    "5.\tBrazil Regional Hub prices webscraping Course Day 2 (23/02/2022) – \n",
    "https://www.youtube.com/watch?v=10Po9CM6HcM (2 hours)\n",
    "\n",
    "6.\tBrazil Regional Hub prices webscraping Course -\n",
    "https://www.youtube.com/watch?v=NwSY_x4L9YM (1.5 hours)"
   ]
  }
 ],
 "metadata": {
  "kernelspec": {
   "display_name": "Python 3",
   "language": "python",
   "name": "python3"
  },
  "language_info": {
   "name": "python",
   "version": "3.11.1"
  },
  "orig_nbformat": 4
 },
 "nbformat": 4,
 "nbformat_minor": 2
}
