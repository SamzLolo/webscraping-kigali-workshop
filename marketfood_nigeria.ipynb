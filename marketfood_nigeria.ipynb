{
 "cells": [
  {
   "attachments": {},
   "cell_type": "markdown",
   "metadata": {},
   "source": [
    "# Example for The Market Food Shop (Nigeria)"
   ]
  },
  {
   "cell_type": "code",
   "execution_count": 1,
   "metadata": {},
   "outputs": [],
   "source": [
    "import time\n",
    "from datetime import date\n",
    "from urllib.robotparser import RobotFileParser\n",
    "import json\n",
    "\n",
    "import requests\n",
    "from bs4 import BeautifulSoup\n",
    "import pandas as pd\n",
    "from pydantic import BaseModel"
   ]
  },
  {
   "attachments": {},
   "cell_type": "markdown",
   "metadata": {},
   "source": [
    "Define functions"
   ]
  },
  {
   "cell_type": "code",
   "execution_count": 2,
   "metadata": {},
   "outputs": [],
   "source": [
    "def safe_get(s: requests.sessions.Session, robots: RobotFileParser, link: str) -> requests.models.Response:\n",
    "    \"\"\"Wrapper for a request session get call that respects the robots.txt file\n",
    "    Parameters:\n",
    "        s (requests.sessions.Session): Requests session with User-Agent properly set\n",
    "        robots (RobotFileParser): Initialized robots.txt parsed object for the specific website\n",
    "        link (str): link that you want to retrive respecting the robots.txt file\n",
    "    \n",
    "    Returns:\n",
    "        Response from session get call or None if the link is forbidden by robots.txt\n",
    "    \"\"\"\n",
    "    if robots.can_fetch(s.headers.get(\"User-Agent\"), link):\n",
    "        response = s.get(link)\n",
    "    else:\n",
    "        response = None\n",
    "    return response"
   ]
  },
  {
   "attachments": {},
   "cell_type": "markdown",
   "metadata": {},
   "source": [
    "## Get Robots.txt"
   ]
  },
  {
   "cell_type": "code",
   "execution_count": 3,
   "metadata": {},
   "outputs": [],
   "source": [
    "root_url = \"https://www.themarketfoodshop.com/\""
   ]
  },
  {
   "cell_type": "code",
   "execution_count": 4,
   "metadata": {},
   "outputs": [],
   "source": [
    "# Setup session and user-agent\n",
    "headers = {  # Need to be replaced with your details\n",
    "    'User-Agent': 'Webscraping Capacity Building 1.0',\n",
    "    'From': 'luigi.palumbo@unitus.it'  \n",
    "}\n",
    "\n",
    "s = requests.Session()\n",
    "s.headers.update(headers)"
   ]
  },
  {
   "cell_type": "code",
   "execution_count": 5,
   "metadata": {},
   "outputs": [],
   "source": [
    "# Parse robots.txt\n",
    "robots_tfms = RobotFileParser(root_url + \"robots.txt\")\n",
    "robots_tfms.read()"
   ]
  },
  {
   "cell_type": "code",
   "execution_count": 6,
   "metadata": {},
   "outputs": [],
   "source": [
    "delay = robots_tfms.crawl_delay(s.headers.get(\"User-Agent\"))"
   ]
  },
  {
   "attachments": {},
   "cell_type": "markdown",
   "metadata": {},
   "source": [
    "## Get the homepage and parse directories"
   ]
  },
  {
   "cell_type": "code",
   "execution_count": 7,
   "metadata": {},
   "outputs": [],
   "source": [
    "homepage = s.get(root_url)"
   ]
  },
  {
   "cell_type": "code",
   "execution_count": 8,
   "metadata": {},
   "outputs": [],
   "source": [
    "page = BeautifulSoup(homepage.text, 'html.parser')"
   ]
  },
  {
   "cell_type": "code",
   "execution_count": 9,
   "metadata": {},
   "outputs": [],
   "source": [
    "div_list = page.find_all(\"div\", {\"class\": \"sub-menu-dropdown\"})"
   ]
  },
  {
   "cell_type": "code",
   "execution_count": 10,
   "metadata": {},
   "outputs": [],
   "source": [
    "link_list = []\n",
    "for div in div_list:\n",
    "    for l in div.find_all(\"a\"):\n",
    "        new_link = {}\n",
    "        new_link[\"name\"] = l.get_text()\n",
    "        new_link[\"link\"] = l.get(\"href\")\n",
    "        link_list.append(new_link)\n",
    "\n",
    "# Link list has the starting page fo all categories"
   ]
  },
  {
   "attachments": {},
   "cell_type": "markdown",
   "metadata": {},
   "source": [
    "Get links of individual products"
   ]
  },
  {
   "cell_type": "code",
   "execution_count": 11,
   "metadata": {},
   "outputs": [],
   "source": [
    "category_page = s.get(link_list[0].get(\"link\"))"
   ]
  },
  {
   "cell_type": "code",
   "execution_count": 12,
   "metadata": {},
   "outputs": [],
   "source": [
    "category_page = BeautifulSoup(category_page.text, 'html.parser')\n"
   ]
  },
  {
   "cell_type": "code",
   "execution_count": 13,
   "metadata": {},
   "outputs": [
    {
     "data": {
      "text/plain": [
       "['https://www.themarketfoodshop.com/product/bag-of-rice-aroso/',\n",
       " 'https://www.themarketfoodshop.com/product/black-beans/',\n",
       " 'https://www.themarketfoodshop.com/product/brown-rice-1kg/',\n",
       " 'https://www.themarketfoodshop.com/product/bag-of-rice/',\n",
       " 'https://www.themarketfoodshop.com/product/honey-beans-2/',\n",
       " 'https://www.themarketfoodshop.com/product/oloyin-beans/',\n",
       " 'https://www.themarketfoodshop.com/product/ijebu-garri/',\n",
       " 'https://www.themarketfoodshop.com/product/kidney-beans-nigeria-2/',\n",
       " 'https://www.themarketfoodshop.com/product/ofada-rice/',\n",
       " 'https://www.themarketfoodshop.com/product/olotu-beans/',\n",
       " 'https://www.themarketfoodshop.com/product/tasty-pot-peeled-beans/',\n",
       " 'https://www.themarketfoodshop.com/product/buy-cotonou-rice-online/']"
      ]
     },
     "execution_count": 13,
     "metadata": {},
     "output_type": "execute_result"
    }
   ],
   "source": [
    "product_links = [item.find(\"a\").get(\"href\") for item in category_page.find_all(\"h3\", {\"class\": \"product-title\"})]\n",
    "product_links"
   ]
  },
  {
   "attachments": {},
   "cell_type": "markdown",
   "metadata": {},
   "source": [
    "Find the next page inside the category"
   ]
  },
  {
   "cell_type": "code",
   "execution_count": 14,
   "metadata": {},
   "outputs": [],
   "source": [
    "next_page = category_page.find(\"ul\", {\"class\": \"page-numbers\"}).find(\"a\", {\"class\": \"next\"}).get(\"href\")"
   ]
  },
  {
   "attachments": {},
   "cell_type": "markdown",
   "metadata": {},
   "source": [
    "## Parsing product pages"
   ]
  },
  {
   "attachments": {},
   "cell_type": "markdown",
   "metadata": {},
   "source": [
    "### With size selection"
   ]
  },
  {
   "cell_type": "code",
   "execution_count": 15,
   "metadata": {},
   "outputs": [],
   "source": [
    "test_with = s.get(\"https://www.themarketfoodshop.com/product/bag-of-rice-aroso/\")"
   ]
  },
  {
   "cell_type": "code",
   "execution_count": 16,
   "metadata": {},
   "outputs": [],
   "source": [
    "test_with = BeautifulSoup(test_with.text, 'html.parser')\n"
   ]
  },
  {
   "cell_type": "code",
   "execution_count": 17,
   "metadata": {},
   "outputs": [],
   "source": [
    "data_json = json.loads(test_with.find(\"form\", {\"class\": \"variations_form\"}).get(\"data-product_variations\"))\n"
   ]
  },
  {
   "cell_type": "code",
   "execution_count": 40,
   "metadata": {},
   "outputs": [
    {
     "data": {
      "text/plain": [
       "[{'attributes': {'attribute_bag-of-rice-aroso-long-grain-rice': '50kg'},\n",
       "  'availability_html': '',\n",
       "  'backorders_allowed': False,\n",
       "  'dimensions': {'length': '', 'width': '', 'height': ''},\n",
       "  'dimensions_html': 'N/A',\n",
       "  'display_price': 50000,\n",
       "  'display_regular_price': 50000,\n",
       "  'image': {'title': 'Buy Bag Of Rice (Aroso) online',\n",
       "   'caption': '',\n",
       "   'url': 'https://www.themarketfoodshop.com/wp-content/uploads/2018/11/buy-Bag-Of-Rice-Aroso-online.jpg',\n",
       "   'alt': 'Bag Of Rice (Aroso)',\n",
       "   'src': 'https://www.themarketfoodshop.com/wp-content/uploads/2018/11/buy-Bag-Of-Rice-Aroso-online-300x168.jpg',\n",
       "   'srcset': 'https://www.themarketfoodshop.com/wp-content/uploads/2018/11/buy-Bag-Of-Rice-Aroso-online-300x168.jpg 300w, https://www.themarketfoodshop.com/wp-content/uploads/2018/11/buy-Bag-Of-Rice-Aroso-online-768x430.jpg 768w, https://www.themarketfoodshop.com/wp-content/uploads/2018/11/buy-Bag-Of-Rice-Aroso-online.jpg 960w',\n",
       "   'sizes': '(max-width: 300px) 100vw, 300px',\n",
       "   'full_src': 'https://www.themarketfoodshop.com/wp-content/uploads/2018/11/buy-Bag-Of-Rice-Aroso-online.jpg',\n",
       "   'full_src_w': 960,\n",
       "   'full_src_h': 537,\n",
       "   'gallery_thumbnail_src': 'https://www.themarketfoodshop.com/wp-content/uploads/2018/11/buy-Bag-Of-Rice-Aroso-online-424x424.jpg',\n",
       "   'gallery_thumbnail_src_w': 300,\n",
       "   'gallery_thumbnail_src_h': 300,\n",
       "   'thumb_src': 'https://www.themarketfoodshop.com/wp-content/uploads/2018/11/buy-Bag-Of-Rice-Aroso-online-212x212.jpg',\n",
       "   'thumb_src_w': 212,\n",
       "   'thumb_src_h': 212,\n",
       "   'src_w': 300,\n",
       "   'src_h': 168},\n",
       "  'image_id': 5068,\n",
       "  'is_downloadable': False,\n",
       "  'is_in_stock': True,\n",
       "  'is_purchasable': True,\n",
       "  'is_sold_individually': 'no',\n",
       "  'is_virtual': False,\n",
       "  'max_qty': '',\n",
       "  'min_qty': 1,\n",
       "  'price_html': '<span class=\"price\"><span class=\"woocommerce-Price-amount amount\"><bdi><span class=\"woocommerce-Price-currencySymbol\">&#8358;</span>50,000</bdi></span></span>',\n",
       "  'sku': 'MFS-200',\n",
       "  'variation_description': '',\n",
       "  'variation_id': 4584,\n",
       "  'variation_is_active': True,\n",
       "  'variation_is_visible': True,\n",
       "  'weight': '',\n",
       "  'weight_html': 'N/A'},\n",
       " {'attributes': {'attribute_bag-of-rice-aroso-long-grain-rice': '25kg'},\n",
       "  'availability_html': '',\n",
       "  'backorders_allowed': False,\n",
       "  'dimensions': {'length': '', 'width': '', 'height': ''},\n",
       "  'dimensions_html': 'N/A',\n",
       "  'display_price': 27000,\n",
       "  'display_regular_price': 27000,\n",
       "  'image': {'title': 'Buy Bag Of Rice (Aroso) online',\n",
       "   'caption': '',\n",
       "   'url': 'https://www.themarketfoodshop.com/wp-content/uploads/2018/11/buy-Bag-Of-Rice-Aroso-online.jpg',\n",
       "   'alt': 'Bag Of Rice (Aroso)',\n",
       "   'src': 'https://www.themarketfoodshop.com/wp-content/uploads/2018/11/buy-Bag-Of-Rice-Aroso-online-300x168.jpg',\n",
       "   'srcset': 'https://www.themarketfoodshop.com/wp-content/uploads/2018/11/buy-Bag-Of-Rice-Aroso-online-300x168.jpg 300w, https://www.themarketfoodshop.com/wp-content/uploads/2018/11/buy-Bag-Of-Rice-Aroso-online-768x430.jpg 768w, https://www.themarketfoodshop.com/wp-content/uploads/2018/11/buy-Bag-Of-Rice-Aroso-online.jpg 960w',\n",
       "   'sizes': '(max-width: 300px) 100vw, 300px',\n",
       "   'full_src': 'https://www.themarketfoodshop.com/wp-content/uploads/2018/11/buy-Bag-Of-Rice-Aroso-online.jpg',\n",
       "   'full_src_w': 960,\n",
       "   'full_src_h': 537,\n",
       "   'gallery_thumbnail_src': 'https://www.themarketfoodshop.com/wp-content/uploads/2018/11/buy-Bag-Of-Rice-Aroso-online-424x424.jpg',\n",
       "   'gallery_thumbnail_src_w': 300,\n",
       "   'gallery_thumbnail_src_h': 300,\n",
       "   'thumb_src': 'https://www.themarketfoodshop.com/wp-content/uploads/2018/11/buy-Bag-Of-Rice-Aroso-online-212x212.jpg',\n",
       "   'thumb_src_w': 212,\n",
       "   'thumb_src_h': 212,\n",
       "   'src_w': 300,\n",
       "   'src_h': 168},\n",
       "  'image_id': 5068,\n",
       "  'is_downloadable': False,\n",
       "  'is_in_stock': True,\n",
       "  'is_purchasable': True,\n",
       "  'is_sold_individually': 'no',\n",
       "  'is_virtual': False,\n",
       "  'max_qty': '',\n",
       "  'min_qty': 1,\n",
       "  'price_html': '<span class=\"price\"><span class=\"woocommerce-Price-amount amount\"><bdi><span class=\"woocommerce-Price-currencySymbol\">&#8358;</span>27,000</bdi></span></span>',\n",
       "  'sku': 'MFS-200',\n",
       "  'variation_description': '',\n",
       "  'variation_id': 4585,\n",
       "  'variation_is_active': True,\n",
       "  'variation_is_visible': True,\n",
       "  'weight': '',\n",
       "  'weight_html': 'N/A'},\n",
       " {'attributes': {'attribute_bag-of-rice-aroso-long-grain-rice': '10kg'},\n",
       "  'availability_html': '',\n",
       "  'backorders_allowed': False,\n",
       "  'dimensions': {'length': '', 'width': '', 'height': ''},\n",
       "  'dimensions_html': 'N/A',\n",
       "  'display_price': 14000,\n",
       "  'display_regular_price': 14000,\n",
       "  'image': {'title': 'Buy Bag Of Rice (Aroso) online',\n",
       "   'caption': '',\n",
       "   'url': 'https://www.themarketfoodshop.com/wp-content/uploads/2018/11/buy-Bag-Of-Rice-Aroso-online.jpg',\n",
       "   'alt': 'Bag Of Rice (Aroso)',\n",
       "   'src': 'https://www.themarketfoodshop.com/wp-content/uploads/2018/11/buy-Bag-Of-Rice-Aroso-online-300x168.jpg',\n",
       "   'srcset': 'https://www.themarketfoodshop.com/wp-content/uploads/2018/11/buy-Bag-Of-Rice-Aroso-online-300x168.jpg 300w, https://www.themarketfoodshop.com/wp-content/uploads/2018/11/buy-Bag-Of-Rice-Aroso-online-768x430.jpg 768w, https://www.themarketfoodshop.com/wp-content/uploads/2018/11/buy-Bag-Of-Rice-Aroso-online.jpg 960w',\n",
       "   'sizes': '(max-width: 300px) 100vw, 300px',\n",
       "   'full_src': 'https://www.themarketfoodshop.com/wp-content/uploads/2018/11/buy-Bag-Of-Rice-Aroso-online.jpg',\n",
       "   'full_src_w': 960,\n",
       "   'full_src_h': 537,\n",
       "   'gallery_thumbnail_src': 'https://www.themarketfoodshop.com/wp-content/uploads/2018/11/buy-Bag-Of-Rice-Aroso-online-424x424.jpg',\n",
       "   'gallery_thumbnail_src_w': 300,\n",
       "   'gallery_thumbnail_src_h': 300,\n",
       "   'thumb_src': 'https://www.themarketfoodshop.com/wp-content/uploads/2018/11/buy-Bag-Of-Rice-Aroso-online-212x212.jpg',\n",
       "   'thumb_src_w': 212,\n",
       "   'thumb_src_h': 212,\n",
       "   'src_w': 300,\n",
       "   'src_h': 168},\n",
       "  'image_id': 5068,\n",
       "  'is_downloadable': False,\n",
       "  'is_in_stock': True,\n",
       "  'is_purchasable': True,\n",
       "  'is_sold_individually': 'no',\n",
       "  'is_virtual': False,\n",
       "  'max_qty': '',\n",
       "  'min_qty': 1,\n",
       "  'price_html': '<span class=\"price\"><span class=\"woocommerce-Price-amount amount\"><bdi><span class=\"woocommerce-Price-currencySymbol\">&#8358;</span>14,000</bdi></span></span>',\n",
       "  'sku': 'MFS-200',\n",
       "  'variation_description': '',\n",
       "  'variation_id': 4586,\n",
       "  'variation_is_active': True,\n",
       "  'variation_is_visible': True,\n",
       "  'weight': '',\n",
       "  'weight_html': 'N/A'}]"
      ]
     },
     "execution_count": 40,
     "metadata": {},
     "output_type": "execute_result"
    }
   ],
   "source": [
    "data_json"
   ]
  },
  {
   "cell_type": "code",
   "execution_count": 18,
   "metadata": {},
   "outputs": [],
   "source": [
    "test = []\n",
    "for item in data_json:\n",
    "    product_temp = {}\n",
    "    product_temp[\"size\"] = [v for k,v in item.get(\"attributes\").items() if k.startswith(\"attri\")][0]  # It need improvement\n",
    "    product_temp[\"price\"] = item.get(\"display_price\")\n",
    "    test.append(product_temp)"
   ]
  },
  {
   "cell_type": "code",
   "execution_count": 19,
   "metadata": {},
   "outputs": [
    {
     "data": {
      "text/plain": [
       "[{'size': '50kg', 'price': 50000},\n",
       " {'size': '25kg', 'price': 27000},\n",
       " {'size': '10kg', 'price': 14000}]"
      ]
     },
     "execution_count": 19,
     "metadata": {},
     "output_type": "execute_result"
    }
   ],
   "source": [
    "test"
   ]
  },
  {
   "cell_type": "code",
   "execution_count": 20,
   "metadata": {},
   "outputs": [
    {
     "data": {
      "text/plain": [
       "'Aroso Rice (Original)'"
      ]
     },
     "execution_count": 20,
     "metadata": {},
     "output_type": "execute_result"
    }
   ],
   "source": [
    "test_with.find(\"h1\", {\"class\": \"product_title\"}).get_text()"
   ]
  },
  {
   "attachments": {},
   "cell_type": "markdown",
   "metadata": {},
   "source": [
    "### Without size selection"
   ]
  },
  {
   "cell_type": "code",
   "execution_count": 21,
   "metadata": {},
   "outputs": [],
   "source": [
    "test_without = s.get(\"https://www.themarketfoodshop.com/product/black-beans/\")"
   ]
  },
  {
   "cell_type": "code",
   "execution_count": 22,
   "metadata": {},
   "outputs": [],
   "source": [
    "test_without = BeautifulSoup(test_without.text, 'html.parser')\n"
   ]
  },
  {
   "cell_type": "code",
   "execution_count": 23,
   "metadata": {},
   "outputs": [
    {
     "data": {
      "text/plain": [
       "[<script class=\"yoast-schema-graph\" type=\"application/ld+json\">{\"@context\":\"https://schema.org\",\"@graph\":[{\"@type\":\"WebPage\",\"@id\":\"https://www.themarketfoodshop.com/product/black-beans/\",\"url\":\"https://www.themarketfoodshop.com/product/black-beans/\",\"name\":\"Buy Black Beans For Frejon Online From the Market Food Shop\",\"isPartOf\":{\"@id\":\"https://www.themarketfoodshop.com/#website\"},\"primaryImageOfPage\":{\"@id\":\"https://www.themarketfoodshop.com/product/black-beans/#primaryimage\"},\"image\":{\"@id\":\"https://www.themarketfoodshop.com/product/black-beans/#primaryimage\"},\"thumbnailUrl\":\"https://www.themarketfoodshop.com/wp-content/uploads/2018/04/buy-black-beans-online.jpg\",\"datePublished\":\"2018-04-14T04:17:36+00:00\",\"dateModified\":\"2022-04-10T13:02:27+00:00\",\"description\":\"Buy black beans for making frejon, a meal enjoyed by catholics on Good friday. Delivery available across Lagos and Nigeria.\",\"breadcrumb\":{\"@id\":\"https://www.themarketfoodshop.com/product/black-beans/#breadcrumb\"},\"inLanguage\":\"en-US\",\"potentialAction\":[{\"@type\":\"ReadAction\",\"target\":[\"https://www.themarketfoodshop.com/product/black-beans/\"]}]},{\"@type\":\"ImageObject\",\"inLanguage\":\"en-US\",\"@id\":\"https://www.themarketfoodshop.com/product/black-beans/#primaryimage\",\"url\":\"https://www.themarketfoodshop.com/wp-content/uploads/2018/04/buy-black-beans-online.jpg\",\"contentUrl\":\"https://www.themarketfoodshop.com/wp-content/uploads/2018/04/buy-black-beans-online.jpg\",\"width\":640,\"height\":427,\"caption\":\"Black Beans\"},{\"@type\":\"BreadcrumbList\",\"@id\":\"https://www.themarketfoodshop.com/product/black-beans/#breadcrumb\",\"itemListElement\":[{\"@type\":\"ListItem\",\"position\":1,\"name\":\"Shop\",\"item\":\"https://www.themarketfoodshop.com/shop/\"},{\"@type\":\"ListItem\",\"position\":2,\"name\":\"Black beans for frejon meal\"}]},{\"@type\":\"WebSite\",\"@id\":\"https://www.themarketfoodshop.com/#website\",\"url\":\"https://www.themarketfoodshop.com/\",\"name\":\"Online Food Market for Nigerians | The Market Food Shop\",\"description\":\"You don&#039;t have to ignore your cravings. Get everything you need to prepare your favourite recipes on themarketfoodshop.com\",\"publisher\":{\"@id\":\"https://www.themarketfoodshop.com/#organization\"},\"potentialAction\":[{\"@type\":\"SearchAction\",\"target\":{\"@type\":\"EntryPoint\",\"urlTemplate\":\"https://www.themarketfoodshop.com/?s={search_term_string}\"},\"query-input\":\"required name=search_term_string\"}],\"inLanguage\":\"en-US\"},{\"@type\":\"Organization\",\"@id\":\"https://www.themarketfoodshop.com/#organization\",\"name\":\"Themarketfoodshop (Dportas Nigeria Limited)\",\"url\":\"https://www.themarketfoodshop.com/\",\"logo\":{\"@type\":\"ImageObject\",\"inLanguage\":\"en-US\",\"@id\":\"https://www.themarketfoodshop.com/#/schema/logo/image/\",\"url\":\"https://www.themarketfoodshop.com/wp-content/uploads/2018/08/logo.png\",\"contentUrl\":\"https://www.themarketfoodshop.com/wp-content/uploads/2018/08/logo.png\",\"width\":350,\"height\":350,\"caption\":\"Themarketfoodshop (Dportas Nigeria Limited)\"},\"image\":{\"@id\":\"https://www.themarketfoodshop.com/#/schema/logo/image/\"},\"sameAs\":[\"http://www.instagram.com/themarketfoodshop\",\"http://www.facebook.com/themarketfoodshop\"]}]}</script>,\n",
       " <script type=\"application/ld+json\">{\"@context\":\"https:\\/\\/schema.org\\/\",\"@type\":\"Product\",\"@id\":\"https:\\/\\/www.themarketfoodshop.com\\/product\\/black-beans\\/#product\",\"name\":\"Black beans for frejon meal\",\"url\":\"https:\\/\\/www.themarketfoodshop.com\\/product\\/black-beans\\/\",\"description\":\"Black beans\\r\\n\\r\\nBlack beans for making frejon meal\\r\\n\\r\\nalso known as ewa ibeji.\\r\\n\\r\\n&amp;nbsp;\\r\\n\\r\\nEach pack contains 2 derica\\r\\n\\r\\n&amp;nbsp;\\r\\n\\r\\nQuantity - 2 derica\",\"image\":\"https:\\/\\/www.themarketfoodshop.com\\/wp-content\\/uploads\\/2018\\/04\\/buy-black-beans-online.jpg\",\"sku\":\"MFS-313\",\"offers\":[{\"@type\":\"Offer\",\"price\":\"4000\",\"priceValidUntil\":\"2024-12-31\",\"priceSpecification\":{\"price\":\"4000\",\"priceCurrency\":\"NGN\",\"valueAddedTaxIncluded\":\"false\"},\"priceCurrency\":\"NGN\",\"availability\":\"http:\\/\\/schema.org\\/InStock\",\"url\":\"https:\\/\\/www.themarketfoodshop.com\\/product\\/black-beans\\/\",\"seller\":{\"@type\":\"Organization\",\"name\":\"Online Food Market for Nigerians | The Market Food Shop\",\"url\":\"https:\\/\\/www.themarketfoodshop.com\"}}]}</script>]"
      ]
     },
     "execution_count": 23,
     "metadata": {},
     "output_type": "execute_result"
    }
   ],
   "source": [
    "test_without.find_all(\"script\", {\"type\": \"application/ld+json\"})"
   ]
  },
  {
   "cell_type": "code",
   "execution_count": 24,
   "metadata": {},
   "outputs": [
    {
     "data": {
      "text/plain": [
       "<script type=\"application/ld+json\">{\"@context\":\"https:\\/\\/schema.org\\/\",\"@type\":\"Product\",\"@id\":\"https:\\/\\/www.themarketfoodshop.com\\/product\\/black-beans\\/#product\",\"name\":\"Black beans for frejon meal\",\"url\":\"https:\\/\\/www.themarketfoodshop.com\\/product\\/black-beans\\/\",\"description\":\"Black beans\\r\\n\\r\\nBlack beans for making frejon meal\\r\\n\\r\\nalso known as ewa ibeji.\\r\\n\\r\\n&amp;nbsp;\\r\\n\\r\\nEach pack contains 2 derica\\r\\n\\r\\n&amp;nbsp;\\r\\n\\r\\nQuantity - 2 derica\",\"image\":\"https:\\/\\/www.themarketfoodshop.com\\/wp-content\\/uploads\\/2018\\/04\\/buy-black-beans-online.jpg\",\"sku\":\"MFS-313\",\"offers\":[{\"@type\":\"Offer\",\"price\":\"4000\",\"priceValidUntil\":\"2024-12-31\",\"priceSpecification\":{\"price\":\"4000\",\"priceCurrency\":\"NGN\",\"valueAddedTaxIncluded\":\"false\"},\"priceCurrency\":\"NGN\",\"availability\":\"http:\\/\\/schema.org\\/InStock\",\"url\":\"https:\\/\\/www.themarketfoodshop.com\\/product\\/black-beans\\/\",\"seller\":{\"@type\":\"Organization\",\"name\":\"Online Food Market for Nigerians | The Market Food Shop\",\"url\":\"https:\\/\\/www.themarketfoodshop.com\"}}]}</script>"
      ]
     },
     "execution_count": 24,
     "metadata": {},
     "output_type": "execute_result"
    }
   ],
   "source": [
    "test_without.find(\"script\", {\"type\": \"application/ld+json\"}, class_=lambda x: x!= \"yoast-schema-graph\")"
   ]
  },
  {
   "cell_type": "code",
   "execution_count": 38,
   "metadata": {},
   "outputs": [
    {
     "data": {
      "text/plain": [
       "{'@context': 'https://schema.org',\n",
       " '@graph': [{'@type': 'WebPage',\n",
       "   '@id': 'https://www.themarketfoodshop.com/product/black-beans/',\n",
       "   'url': 'https://www.themarketfoodshop.com/product/black-beans/',\n",
       "   'name': 'Buy Black Beans For Frejon Online From the Market Food Shop',\n",
       "   'isPartOf': {'@id': 'https://www.themarketfoodshop.com/#website'},\n",
       "   'primaryImageOfPage': {'@id': 'https://www.themarketfoodshop.com/product/black-beans/#primaryimage'},\n",
       "   'image': {'@id': 'https://www.themarketfoodshop.com/product/black-beans/#primaryimage'},\n",
       "   'thumbnailUrl': 'https://www.themarketfoodshop.com/wp-content/uploads/2018/04/buy-black-beans-online.jpg',\n",
       "   'datePublished': '2018-04-14T04:17:36+00:00',\n",
       "   'dateModified': '2022-04-10T13:02:27+00:00',\n",
       "   'description': 'Buy black beans for making frejon, a meal enjoyed by catholics on Good friday. Delivery available across Lagos and Nigeria.',\n",
       "   'breadcrumb': {'@id': 'https://www.themarketfoodshop.com/product/black-beans/#breadcrumb'},\n",
       "   'inLanguage': 'en-US',\n",
       "   'potentialAction': [{'@type': 'ReadAction',\n",
       "     'target': ['https://www.themarketfoodshop.com/product/black-beans/']}]},\n",
       "  {'@type': 'ImageObject',\n",
       "   'inLanguage': 'en-US',\n",
       "   '@id': 'https://www.themarketfoodshop.com/product/black-beans/#primaryimage',\n",
       "   'url': 'https://www.themarketfoodshop.com/wp-content/uploads/2018/04/buy-black-beans-online.jpg',\n",
       "   'contentUrl': 'https://www.themarketfoodshop.com/wp-content/uploads/2018/04/buy-black-beans-online.jpg',\n",
       "   'width': 640,\n",
       "   'height': 427,\n",
       "   'caption': 'Black Beans'},\n",
       "  {'@type': 'BreadcrumbList',\n",
       "   '@id': 'https://www.themarketfoodshop.com/product/black-beans/#breadcrumb',\n",
       "   'itemListElement': [{'@type': 'ListItem',\n",
       "     'position': 1,\n",
       "     'name': 'Shop',\n",
       "     'item': 'https://www.themarketfoodshop.com/shop/'},\n",
       "    {'@type': 'ListItem',\n",
       "     'position': 2,\n",
       "     'name': 'Black beans for frejon meal'}]},\n",
       "  {'@type': 'WebSite',\n",
       "   '@id': 'https://www.themarketfoodshop.com/#website',\n",
       "   'url': 'https://www.themarketfoodshop.com/',\n",
       "   'name': 'Online Food Market for Nigerians | The Market Food Shop',\n",
       "   'description': 'You don&#039;t have to ignore your cravings. Get everything you need to prepare your favourite recipes on themarketfoodshop.com',\n",
       "   'publisher': {'@id': 'https://www.themarketfoodshop.com/#organization'},\n",
       "   'potentialAction': [{'@type': 'SearchAction',\n",
       "     'target': {'@type': 'EntryPoint',\n",
       "      'urlTemplate': 'https://www.themarketfoodshop.com/?s={search_term_string}'},\n",
       "     'query-input': 'required name=search_term_string'}],\n",
       "   'inLanguage': 'en-US'},\n",
       "  {'@type': 'Organization',\n",
       "   '@id': 'https://www.themarketfoodshop.com/#organization',\n",
       "   'name': 'Themarketfoodshop (Dportas Nigeria Limited)',\n",
       "   'url': 'https://www.themarketfoodshop.com/',\n",
       "   'logo': {'@type': 'ImageObject',\n",
       "    'inLanguage': 'en-US',\n",
       "    '@id': 'https://www.themarketfoodshop.com/#/schema/logo/image/',\n",
       "    'url': 'https://www.themarketfoodshop.com/wp-content/uploads/2018/08/logo.png',\n",
       "    'contentUrl': 'https://www.themarketfoodshop.com/wp-content/uploads/2018/08/logo.png',\n",
       "    'width': 350,\n",
       "    'height': 350,\n",
       "    'caption': 'Themarketfoodshop (Dportas Nigeria Limited)'},\n",
       "   'image': {'@id': 'https://www.themarketfoodshop.com/#/schema/logo/image/'},\n",
       "   'sameAs': ['http://www.instagram.com/themarketfoodshop',\n",
       "    'http://www.facebook.com/themarketfoodshop']}]}"
      ]
     },
     "execution_count": 38,
     "metadata": {},
     "output_type": "execute_result"
    }
   ],
   "source": [
    "json.loads(test_without.find(\"script\", {\"type\": \"application/ld+json\"}).get_text())"
   ]
  },
  {
   "cell_type": "code",
   "execution_count": 25,
   "metadata": {},
   "outputs": [],
   "source": [
    "data_wo_json = json.loads(\n",
    "    test_without.find(\n",
    "        \"script\",\n",
    "        {\"type\": \"application/ld+json\"},\n",
    "        class_=lambda x: x!= \"yoast-schema-graph\").get_text())"
   ]
  },
  {
   "cell_type": "code",
   "execution_count": 26,
   "metadata": {},
   "outputs": [
    {
     "data": {
      "text/plain": [
       "'4000'"
      ]
     },
     "execution_count": 26,
     "metadata": {},
     "output_type": "execute_result"
    }
   ],
   "source": [
    "data_wo_json.get(\"offers\")[0].get(\"price\")"
   ]
  },
  {
   "cell_type": "code",
   "execution_count": 27,
   "metadata": {},
   "outputs": [
    {
     "data": {
      "text/plain": [
       "{'@context': 'https://schema.org/',\n",
       " '@type': 'Product',\n",
       " '@id': 'https://www.themarketfoodshop.com/product/black-beans/#product',\n",
       " 'name': 'Black beans for frejon meal',\n",
       " 'url': 'https://www.themarketfoodshop.com/product/black-beans/',\n",
       " 'description': 'Black beans\\r\\n\\r\\nBlack beans for making frejon meal\\r\\n\\r\\nalso known as ewa ibeji.\\r\\n\\r\\n&amp;nbsp;\\r\\n\\r\\nEach pack contains 2 derica\\r\\n\\r\\n&amp;nbsp;\\r\\n\\r\\nQuantity - 2 derica',\n",
       " 'image': 'https://www.themarketfoodshop.com/wp-content/uploads/2018/04/buy-black-beans-online.jpg',\n",
       " 'sku': 'MFS-313',\n",
       " 'offers': [{'@type': 'Offer',\n",
       "   'price': '4000',\n",
       "   'priceValidUntil': '2024-12-31',\n",
       "   'priceSpecification': {'price': '4000',\n",
       "    'priceCurrency': 'NGN',\n",
       "    'valueAddedTaxIncluded': 'false'},\n",
       "   'priceCurrency': 'NGN',\n",
       "   'availability': 'http://schema.org/InStock',\n",
       "   'url': 'https://www.themarketfoodshop.com/product/black-beans/',\n",
       "   'seller': {'@type': 'Organization',\n",
       "    'name': 'Online Food Market for Nigerians | The Market Food Shop',\n",
       "    'url': 'https://www.themarketfoodshop.com'}}]}"
      ]
     },
     "execution_count": 27,
     "metadata": {},
     "output_type": "execute_result"
    }
   ],
   "source": [
    "data_wo_json"
   ]
  },
  {
   "attachments": {},
   "cell_type": "markdown",
   "metadata": {},
   "source": [
    "# Put all together into a function"
   ]
  },
  {
   "cell_type": "code",
   "execution_count": 34,
   "metadata": {},
   "outputs": [],
   "source": [
    "def scrape_category(\n",
    "    link: str, \n",
    "    category: str,\n",
    "    Item: BaseModel,\n",
    "    s: requests.session(),\n",
    "    delay: float = 1) -> list:\n",
    "    \"\"\"Function to scrape a category following pagination.\n",
    "    Parameters:\n",
    "        link (str): starting link for a category\n",
    "        category (str): category name\n",
    "        Item (BaseModel): class of the data object for the specific source\n",
    "        s (requests.Session()): Requests session with User-Agent properly set\n",
    "        delay (float): delay in seconds between calls to prevent overloading the source\n",
    "\n",
    "    Returns:\n",
    "        list of product with all information\n",
    "    \"\"\"\n",
    "    time.sleep(delay)\n",
    "    page = s.get(link)\n",
    "    page = BeautifulSoup(page.text, 'html.parser')\n",
    "    links = [item.find(\"a\").get(\"href\") for item in page.find_all(\"h3\", {\"class\": \"product-title\"})]\n",
    "    results = []\n",
    "    for l in links[:3]:\n",
    "        time.sleep(delay)\n",
    "        product = s.get(l)\n",
    "        product = BeautifulSoup(product.text, 'html.parser')\n",
    "        parsed_product = {}\n",
    "        parsed_product[\"link\"] = l\n",
    "        parsed_product[\"name\"] = product.find(\"h1\", {\"class\": \"product_title\"}).get_text()\n",
    "        if product.find(\"form\", {\"class\": \"variations_form\"}):\n",
    "            data_json = json.loads(product.find(\"form\", {\"class\": \"variations_form\"}).get(\"data-product_variations\"))\n",
    "            for item in data_json:\n",
    "                parsed_product[\"size\"] = [v for k,v in item.get(\"attributes\").items() if k.startswith(\"attri\")][0]  # It need improvement\n",
    "                parsed_product[\"price\"] = item.get(\"display_price\")\n",
    "                \n",
    "                results.append(Item(**parsed_product))\n",
    "        else:\n",
    "            data_json = json.loads(\n",
    "                product.find(\n",
    "                    \"script\",\n",
    "                    {\"type\": \"application/ld+json\"},\n",
    "                    class_=lambda x: x!= \"yoast-schema-graph\"\n",
    "                ).get_text()\n",
    "            )\n",
    "            parsed_product[\"price\"] = data_json.get(\"offers\")[0].get(\"price\")\n",
    "            parsed_product[\"description\"] = data_json.get(\"description\")\n",
    "            results.append(Item(**parsed_product))\n",
    "\n",
    "    # Follow pagination if exists\n",
    "    try:\n",
    "        next_page = page.find(\"ul\", {\"class\": \"page-numbers\"}).find(\"a\", {\"class\": \"next\"})\n",
    "        if next_page is not None:\n",
    "            next_page = next_page.get(\"href\")\n",
    "            next_results = scrape_category(link=next_page, category=category, Item=Item, s=s, delay=delay)\n",
    "            results.extend(next_results)\n",
    "    except AttributeError:\n",
    "        pass\n",
    "            \n",
    "    return results\n"
   ]
  },
  {
   "attachments": {},
   "cell_type": "markdown",
   "metadata": {},
   "source": [
    "## Define data model"
   ]
  },
  {
   "cell_type": "code",
   "execution_count": 29,
   "metadata": {},
   "outputs": [],
   "source": [
    "class Product(BaseModel):\n",
    "    link: str\n",
    "    source: str\n",
    "    category: str = None\n",
    "    subcategory: str = None\n",
    "    subsubcategory: str = None\n",
    "    name: str = None\n",
    "    brand: str = None\n",
    "    size: str = None\n",
    "    uid: str = None\n",
    "    price: float\n",
    "    regular_price: float = None\n",
    "    currency: str\n",
    "    in_stock: str = None\n",
    "    description: str = None\n",
    "    date: str = date.today().strftime(\"%Y-%m-%d\")\n",
    "\n",
    "class Themarket(Product):\n",
    "    source: str = \"The Market Food Shop\"\n",
    "    currency: str = \"NGN\""
   ]
  },
  {
   "attachments": {},
   "cell_type": "markdown",
   "metadata": {},
   "source": [
    "## Test on grains category"
   ]
  },
  {
   "cell_type": "code",
   "execution_count": 35,
   "metadata": {},
   "outputs": [],
   "source": [
    "data = scrape_category(\n",
    "    link = link_list[0].get(\"link\"), \n",
    "    category = link_list[0].get(\"name\"),\n",
    "    Item = Themarket,\n",
    "    s = s,\n",
    "    delay = delay)"
   ]
  },
  {
   "cell_type": "code",
   "execution_count": 36,
   "metadata": {},
   "outputs": [],
   "source": [
    "data_df = pd.DataFrame([prod.dict(exclude_none=True) for prod in data])"
   ]
  },
  {
   "cell_type": "code",
   "execution_count": 37,
   "metadata": {},
   "outputs": [
    {
     "data": {
      "text/html": [
       "<div>\n",
       "<style scoped>\n",
       "    .dataframe tbody tr th:only-of-type {\n",
       "        vertical-align: middle;\n",
       "    }\n",
       "\n",
       "    .dataframe tbody tr th {\n",
       "        vertical-align: top;\n",
       "    }\n",
       "\n",
       "    .dataframe thead th {\n",
       "        text-align: right;\n",
       "    }\n",
       "</style>\n",
       "<table border=\"1\" class=\"dataframe\">\n",
       "  <thead>\n",
       "    <tr style=\"text-align: right;\">\n",
       "      <th></th>\n",
       "      <th>link</th>\n",
       "      <th>source</th>\n",
       "      <th>name</th>\n",
       "      <th>size</th>\n",
       "      <th>price</th>\n",
       "      <th>currency</th>\n",
       "      <th>date</th>\n",
       "    </tr>\n",
       "  </thead>\n",
       "  <tbody>\n",
       "    <tr>\n",
       "      <th>0</th>\n",
       "      <td>https://www.themarketfoodshop.com/product/bag-...</td>\n",
       "      <td>The Market Food Shop</td>\n",
       "      <td>Aroso Rice (Original)</td>\n",
       "      <td>50kg</td>\n",
       "      <td>50000.0</td>\n",
       "      <td>NGN</td>\n",
       "      <td>2023-03-28</td>\n",
       "    </tr>\n",
       "    <tr>\n",
       "      <th>1</th>\n",
       "      <td>https://www.themarketfoodshop.com/product/bag-...</td>\n",
       "      <td>The Market Food Shop</td>\n",
       "      <td>Aroso Rice (Original)</td>\n",
       "      <td>25kg</td>\n",
       "      <td>27000.0</td>\n",
       "      <td>NGN</td>\n",
       "      <td>2023-03-28</td>\n",
       "    </tr>\n",
       "    <tr>\n",
       "      <th>2</th>\n",
       "      <td>https://www.themarketfoodshop.com/product/bag-...</td>\n",
       "      <td>The Market Food Shop</td>\n",
       "      <td>Aroso Rice (Original)</td>\n",
       "      <td>10kg</td>\n",
       "      <td>14000.0</td>\n",
       "      <td>NGN</td>\n",
       "      <td>2023-03-28</td>\n",
       "    </tr>\n",
       "    <tr>\n",
       "      <th>3</th>\n",
       "      <td>https://www.themarketfoodshop.com/product/blac...</td>\n",
       "      <td>The Market Food Shop</td>\n",
       "      <td>Black beans for frejon meal</td>\n",
       "      <td>NaN</td>\n",
       "      <td>4000.0</td>\n",
       "      <td>NGN</td>\n",
       "      <td>2023-03-28</td>\n",
       "    </tr>\n",
       "    <tr>\n",
       "      <th>4</th>\n",
       "      <td>https://www.themarketfoodshop.com/product/brow...</td>\n",
       "      <td>The Market Food Shop</td>\n",
       "      <td>Brown rice (1kg)</td>\n",
       "      <td>NaN</td>\n",
       "      <td>4400.0</td>\n",
       "      <td>NGN</td>\n",
       "      <td>2023-03-28</td>\n",
       "    </tr>\n",
       "    <tr>\n",
       "      <th>5</th>\n",
       "      <td>https://www.themarketfoodshop.com/product/thai...</td>\n",
       "      <td>The Market Food Shop</td>\n",
       "      <td>Thailand rice (Aroso)</td>\n",
       "      <td>NaN</td>\n",
       "      <td>53000.0</td>\n",
       "      <td>NGN</td>\n",
       "      <td>2023-03-28</td>\n",
       "    </tr>\n",
       "    <tr>\n",
       "      <th>6</th>\n",
       "      <td>https://www.themarketfoodshop.com/product/whit...</td>\n",
       "      <td>The Market Food Shop</td>\n",
       "      <td>White Beans</td>\n",
       "      <td>NaN</td>\n",
       "      <td>1100.0</td>\n",
       "      <td>NGN</td>\n",
       "      <td>2023-03-28</td>\n",
       "    </tr>\n",
       "    <tr>\n",
       "      <th>7</th>\n",
       "      <td>https://www.themarketfoodshop.com/product/buy-...</td>\n",
       "      <td>The Market Food Shop</td>\n",
       "      <td>Yellow Garri</td>\n",
       "      <td>NaN</td>\n",
       "      <td>2200.0</td>\n",
       "      <td>NGN</td>\n",
       "      <td>2023-03-28</td>\n",
       "    </tr>\n",
       "  </tbody>\n",
       "</table>\n",
       "</div>"
      ],
      "text/plain": [
       "                                                link                source  \\\n",
       "0  https://www.themarketfoodshop.com/product/bag-...  The Market Food Shop   \n",
       "1  https://www.themarketfoodshop.com/product/bag-...  The Market Food Shop   \n",
       "2  https://www.themarketfoodshop.com/product/bag-...  The Market Food Shop   \n",
       "3  https://www.themarketfoodshop.com/product/blac...  The Market Food Shop   \n",
       "4  https://www.themarketfoodshop.com/product/brow...  The Market Food Shop   \n",
       "5  https://www.themarketfoodshop.com/product/thai...  The Market Food Shop   \n",
       "6  https://www.themarketfoodshop.com/product/whit...  The Market Food Shop   \n",
       "7  https://www.themarketfoodshop.com/product/buy-...  The Market Food Shop   \n",
       "\n",
       "                          name  size    price currency        date  \n",
       "0        Aroso Rice (Original)  50kg  50000.0      NGN  2023-03-28  \n",
       "1        Aroso Rice (Original)  25kg  27000.0      NGN  2023-03-28  \n",
       "2        Aroso Rice (Original)  10kg  14000.0      NGN  2023-03-28  \n",
       "3  Black beans for frejon meal   NaN   4000.0      NGN  2023-03-28  \n",
       "4             Brown rice (1kg)   NaN   4400.0      NGN  2023-03-28  \n",
       "5        Thailand rice (Aroso)   NaN  53000.0      NGN  2023-03-28  \n",
       "6                  White Beans   NaN   1100.0      NGN  2023-03-28  \n",
       "7                 Yellow Garri   NaN   2200.0      NGN  2023-03-28  "
      ]
     },
     "execution_count": 37,
     "metadata": {},
     "output_type": "execute_result"
    }
   ],
   "source": [
    "data_df"
   ]
  },
  {
   "cell_type": "code",
   "execution_count": 39,
   "metadata": {},
   "outputs": [],
   "source": [
    "data_df.to_csv(\"themarketfoodshop_{}.csv\".format(date.today().strftime(\"%Y-%m-%d\")), index=False)\n"
   ]
  }
 ],
 "metadata": {
  "kernelspec": {
   "display_name": "webscraping",
   "language": "python",
   "name": "python3"
  },
  "language_info": {
   "codemirror_mode": {
    "name": "ipython",
    "version": 3
   },
   "file_extension": ".py",
   "mimetype": "text/x-python",
   "name": "python",
   "nbconvert_exporter": "python",
   "pygments_lexer": "ipython3",
   "version": "3.10.10"
  },
  "orig_nbformat": 4
 },
 "nbformat": 4,
 "nbformat_minor": 2
}
